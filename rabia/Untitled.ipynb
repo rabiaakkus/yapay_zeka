{
 "cells": [
  {
   "cell_type": "code",
   "execution_count": 1,
   "id": "8a03b861-8078-443c-a6b3-f1e72b60b50a",
   "metadata": {},
   "outputs": [
    {
     "data": {
      "text/plain": [
       "array([1, 2, 3])"
      ]
     },
     "execution_count": 1,
     "metadata": {},
     "output_type": "execute_result"
    }
   ],
   "source": [
    "import numpy as np\n",
    "np.array([1,2,3])"
   ]
  },
  {
   "cell_type": "code",
   "execution_count": 3,
   "id": "2d9be878-6f4a-41fe-8a06-984cf25a4102",
   "metadata": {},
   "outputs": [],
   "source": [
    "a=np.array([1,2,3])"
   ]
  },
  {
   "cell_type": "code",
   "execution_count": 4,
   "id": "46c93759-8bab-48d4-9a4e-5f46f78948d2",
   "metadata": {},
   "outputs": [
    {
     "data": {
      "text/plain": [
       "array([1.  , 2.  , 3.  , 3.14])"
      ]
     },
     "execution_count": 4,
     "metadata": {},
     "output_type": "execute_result"
    }
   ],
   "source": [
    "dizi=np.array([1,2,3,3.14])\n",
    "dizi"
   ]
  },
  {
   "cell_type": "code",
   "execution_count": 5,
   "id": "43259362-6cc8-431a-8296-6f6c6614eca6",
   "metadata": {},
   "outputs": [
    {
     "data": {
      "text/plain": [
       "array([1, 2, 3, 3])"
      ]
     },
     "execution_count": 5,
     "metadata": {},
     "output_type": "execute_result"
    }
   ],
   "source": [
    "dizi=np.array([1,2,3,3.14],dtype=int)\n",
    "dizi"
   ]
  },
  {
   "cell_type": "code",
   "execution_count": 6,
   "id": "bc7b44b7-8ce4-49d2-86e5-654d63bd2240",
   "metadata": {},
   "outputs": [
    {
     "data": {
      "text/plain": [
       "array([1, 2, 3])"
      ]
     },
     "execution_count": 6,
     "metadata": {},
     "output_type": "execute_result"
    }
   ],
   "source": [
    "birboyut=np.array([1,2,3])\n",
    "birboyut"
   ]
  },
  {
   "cell_type": "code",
   "execution_count": 7,
   "id": "02c7c461-cfc6-4e0e-9dd0-9c6f84b237a8",
   "metadata": {},
   "outputs": [
    {
     "data": {
      "text/plain": [
       "array([[1, 2, 3],\n",
       "       [4, 5, 6]])"
      ]
     },
     "execution_count": 7,
     "metadata": {},
     "output_type": "execute_result"
    }
   ],
   "source": [
    "ikiboyut = np.array([[1,2,3], [4,5,6]])\n",
    "ikiboyut"
   ]
  },
  {
   "cell_type": "code",
   "execution_count": null,
   "id": "3cb949db-52bd-4dad-980a-c2945d35925f",
   "metadata": {},
   "outputs": [],
   "source": []
  }
 ],
 "metadata": {
  "kernelspec": {
   "display_name": "Python 3 (ipykernel)",
   "language": "python",
   "name": "python3"
  },
  "language_info": {
   "codemirror_mode": {
    "name": "ipython",
    "version": 3
   },
   "file_extension": ".py",
   "mimetype": "text/x-python",
   "name": "python",
   "nbconvert_exporter": "python",
   "pygments_lexer": "ipython3",
   "version": "3.11.7"
  }
 },
 "nbformat": 4,
 "nbformat_minor": 5
}
